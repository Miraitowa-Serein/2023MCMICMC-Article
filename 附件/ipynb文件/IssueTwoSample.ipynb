{
 "cells": [
  {
   "cell_type": "code",
   "execution_count": 1,
   "metadata": {
    "ExecuteTime": {
     "end_time": "2023-04-15T10:37:53.555756Z",
     "start_time": "2023-04-15T10:37:53.205109Z"
    },
    "collapsed": true
   },
   "outputs": [],
   "source": [
    "import pandas as pd\n",
    "import numpy as np"
   ]
  },
  {
   "cell_type": "code",
   "execution_count": 2,
   "metadata": {
    "ExecuteTime": {
     "end_time": "2023-04-15T10:37:53.580689Z",
     "start_time": "2023-04-15T10:37:53.557751Z"
    }
   },
   "outputs": [],
   "source": [
    "def Sample(data):\n",
    "    data = data[['空地电门0.2秒','空地电门0.4秒','空地电门0.6秒','空地电门0.8秒','空地电门1秒',\n",
    "                 '着陆G值0.1秒','着陆G值0.2秒','着陆G值0.3秒','着陆G值0.4秒','着陆G值0.5秒',\n",
    "                 '着陆G值0.6秒','着陆G值0.7秒','着陆G值0.8秒','着陆G值0.9秒','着陆G值1秒',\n",
    "                 '姿态（俯仰角）','姿态（俯仰角）.1','姿态（俯仰角）.2','姿态（俯仰角）.3','姿态（俯仰角）.4',\n",
    "                 '杆量','杆量.1','杆量.2','杆量.3','杆量.4',\n",
    "                 '坡度（左负右正）','坡度（左负右正）.1',\n",
    "                 '盘量','盘量.1','盘量.2','盘量.3','盘量.4']]\n",
    "    return data"
   ]
  },
  {
   "cell_type": "code",
   "execution_count": 3,
   "metadata": {
    "ExecuteTime": {
     "end_time": "2023-04-15T10:37:56.952781Z",
     "start_time": "2023-04-15T10:37:53.573708Z"
    }
   },
   "outputs": [],
   "source": [
    "data1 = pd.read_excel('Data\\\\Two\\\\LandingData\\\\1.xlsx', sheet_name='Sheet1')\n",
    "data2 = pd.read_excel('Data\\\\Two\\\\LandingData\\\\2.xlsx', sheet_name='Sheet1')\n",
    "data3 = pd.read_excel('Data\\\\Two\\\\LandingData\\\\3.xlsx', sheet_name='Sheet1')\n",
    "data4 = pd.read_excel('Data\\\\Two\\\\LandingData\\\\4.xlsx', sheet_name='Sheet1')\n",
    "data5 = pd.read_excel('Data\\\\Two\\\\LandingData\\\\5.xlsx', sheet_name='Sheet1')\n",
    "data6 = pd.read_excel('Data\\\\Two\\\\LandingData\\\\6.xlsx', sheet_name='Sheet1')\n",
    "data7 = pd.read_excel('Data\\\\Two\\\\LandingData\\\\7.xlsx', sheet_name='Sheet1')\n",
    "data8 = pd.read_excel('Data\\\\Two\\\\LandingData\\\\8.xlsx', sheet_name='Sheet1')"
   ]
  },
  {
   "cell_type": "code",
   "execution_count": 4,
   "metadata": {
    "ExecuteTime": {
     "end_time": "2023-04-15T10:37:56.968738Z",
     "start_time": "2023-04-15T10:37:56.954776Z"
    }
   },
   "outputs": [],
   "source": [
    "data1N = Sample(data1)\n",
    "data2N = Sample(data2)\n",
    "data3N = Sample(data3)\n",
    "data4N = Sample(data4)\n",
    "data5N = Sample(data5)\n",
    "data6N = Sample(data6)\n",
    "data7N = Sample(data7)\n",
    "data8N = Sample(data8)"
   ]
  },
  {
   "cell_type": "code",
   "execution_count": 5,
   "metadata": {
    "ExecuteTime": {
     "end_time": "2023-04-15T10:37:57.081719Z",
     "start_time": "2023-04-15T10:37:56.964751Z"
    }
   },
   "outputs": [],
   "source": [
    "data1N.to_csv('Data\\\\Two\\\\LandingData\\\\1N.csv', index=False)\n",
    "data2N.to_csv('Data\\\\Two\\\\LandingData\\\\2N.csv', index=False)\n",
    "data3N.to_csv('Data\\\\Two\\\\LandingData\\\\3N.csv', index=False)\n",
    "data4N.to_csv('Data\\\\Two\\\\LandingData\\\\4N.csv', index=False)\n",
    "data5N.to_csv('Data\\\\Two\\\\LandingData\\\\5N.csv', index=False)\n",
    "data6N.to_csv('Data\\\\Two\\\\LandingData\\\\6N.csv', index=False)\n",
    "data7N.to_csv('Data\\\\Two\\\\LandingData\\\\7N.csv', index=False)\n",
    "data8N.to_csv('Data\\\\Two\\\\LandingData\\\\8N.csv', index=False)"
   ]
  }
 ],
 "metadata": {
  "kernelspec": {
   "display_name": "Python 3 (ipykernel)",
   "language": "python",
   "name": "python3"
  },
  "language_info": {
   "codemirror_mode": {
    "name": "ipython",
    "version": 3
   },
   "file_extension": ".py",
   "mimetype": "text/x-python",
   "name": "python",
   "nbconvert_exporter": "python",
   "pygments_lexer": "ipython3",
   "version": "3.10.4"
  },
  "toc": {
   "base_numbering": 1,
   "nav_menu": {},
   "number_sections": true,
   "sideBar": true,
   "skip_h1_title": false,
   "title_cell": "Table of Contents",
   "title_sidebar": "Contents",
   "toc_cell": false,
   "toc_position": {},
   "toc_section_display": true,
   "toc_window_display": false
  }
 },
 "nbformat": 4,
 "nbformat_minor": 1
}
