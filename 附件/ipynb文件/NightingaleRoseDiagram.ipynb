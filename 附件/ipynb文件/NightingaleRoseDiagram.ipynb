{
 "cells": [
  {
   "cell_type": "code",
   "execution_count": 1,
   "outputs": [],
   "source": [
    "import pandas as pd\n",
    "from pyecharts.charts import Pie\n",
    "from pyecharts import options as opts\n",
    "from snapshot_phantomjs import snapshot\n",
    "from pyecharts.render import make_snapshot\n",
    "\n",
    "\n",
    "def draw_pie(grade, num):\n",
    "    color_series = ['#14ADCF', '#209AC9', '#1E91CA','#2C6BA0', '#2B55A1', '#2D3D8E', '#44388E', '#6A368B','#7D3990', '#A63F98', '#C31C88', '#D52178', '#D5225B']\n",
    "\n",
    "    df = pd.DataFrame({'grade': grade, 'num': num})\n",
    "    df.sort_values(by='num', ascending=False, inplace=True)\n",
    "    v = df['grade'].values.tolist()\n",
    "    d = df['num'].values.tolist()\n",
    "    pie1 = Pie(init_opts=opts.InitOpts(width='880px', height='800px'))\n",
    "    pie1.set_colors(color_series)\n",
    "    pie1.add(\"\", [list(z) for z in zip(v, d)],\n",
    "             radius=[\"20%\",\"80%\"],\n",
    "             center=[\"50%\", \"60%\"],\n",
    "             rosetype=\"area\"\n",
    "             )\n",
    "    pie1.set_global_opts(legend_opts=opts.LegendOpts(is_show=False), toolbox_opts=opts.ToolboxOpts())\n",
    "    pie1.set_series_opts(label_opts=opts.LabelOpts(is_show=True, position=\"inside\", font_size=12,\n",
    "                                                   formatter=\"{b} 阶段超限 {c} 次\", font_style=\"italic\",\n",
    "                                                   font_weight=\"bold\", font_family=\"Microsoft YaHei\"\n",
    "                                                   ), )\n",
    "    make_snapshot(snapshot, pie1.render(), 'Figures\\\\NightingaleRoseDiagram.png', is_remove_html=True)\n",
    "\n",
    "\n",
    "draw_pie(['着陆','空中','进近','（着陆）地面','未知','（起飞）地面','起飞'],[26406,11119,5591,398,283,158,148])"
   ],
   "metadata": {
    "collapsed": false,
    "ExecuteTime": {
     "start_time": "2023-04-15T16:59:58.964181Z",
     "end_time": "2023-04-15T17:00:05.244263Z"
    }
   }
  },
  {
   "cell_type": "code",
   "execution_count": null,
   "outputs": [],
   "source": [],
   "metadata": {
    "collapsed": false
   }
  }
 ],
 "metadata": {
  "kernelspec": {
   "display_name": "Python 3",
   "language": "python",
   "name": "python3"
  },
  "language_info": {
   "codemirror_mode": {
    "name": "ipython",
    "version": 2
   },
   "file_extension": ".py",
   "mimetype": "text/x-python",
   "name": "python",
   "nbconvert_exporter": "python",
   "pygments_lexer": "ipython2",
   "version": "2.7.6"
  }
 },
 "nbformat": 4,
 "nbformat_minor": 0
}
